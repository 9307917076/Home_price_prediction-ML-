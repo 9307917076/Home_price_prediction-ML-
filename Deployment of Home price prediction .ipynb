{
 "cells": [
  {
   "cell_type": "code",
   "execution_count": 1,
   "id": "02c6ee69",
   "metadata": {},
   "outputs": [],
   "source": [
    "# deloyment by using GUI"
   ]
  },
  {
   "cell_type": "code",
   "execution_count": 1,
   "id": "abf48577",
   "metadata": {},
   "outputs": [
    {
     "name": "stderr",
     "output_type": "stream",
     "text": [
      "C:\\Users\\91930\\anaconda\\Lib\\site-packages\\sklearn\\base.py:464: UserWarning: X does not have valid feature names, but StandardScaler was fitted with feature names\n",
      "  warnings.warn(\n",
      "C:\\Users\\91930\\anaconda\\Lib\\site-packages\\sklearn\\base.py:464: UserWarning: X does not have valid feature names, but StandardScaler was fitted with feature names\n",
      "  warnings.warn(\n",
      "C:\\Users\\91930\\anaconda\\Lib\\site-packages\\sklearn\\base.py:464: UserWarning: X does not have valid feature names, but StandardScaler was fitted with feature names\n",
      "  warnings.warn(\n"
     ]
    }
   ],
   "source": [
    "import pandas as pd\n",
    "import seaborn as sns\n",
    "import matplotlib.pyplot as plt\n",
    "import numpy as np\n",
    "from sklearn.linear_model import LinearRegression\n",
    "from sklearn.metrics import mean_squared_error,r2_score,mean_absolute_error\n",
    "import pickle\n",
    "from tkinter import *\n",
    "\n",
    "win=Tk()\n",
    "win.title('Home Price Prediction System')\n",
    "win.config(bg='cyan')\n",
    "win.geometry('400x400')\n",
    "\n",
    "def show():\n",
    "    data=var1.get()\n",
    "    area=float(data.strip())\n",
    "    with open('sc_scaler','rb') as f1:\n",
    "        sc=pickle.load(f1)\n",
    "    with open('home_model','rb') as f2:\n",
    "        lr=pickle.load(f2)\n",
    "    area_sc=sc.transform([[area]])\n",
    "    result=lr.predict(area_sc)\n",
    "    l2.config(text=f'predicted price of area{area} is \\n {result[0]:1f}Rs')\n",
    "    var1.set('0')\n",
    "    \n",
    "    \n",
    "\n",
    "\n",
    "# main label\n",
    "l0=Label(win,text='HOME PRICE PREDICTION SYSTEM',bg='white',fg='black',bd=5,relief='ridge',\n",
    "        width=40,font=('times new roman',18,'bold'))\n",
    "\n",
    "l0.place(x=300,y=100)\n",
    "\n",
    "# label...\n",
    "l1=Label(win,text='ENTER THE AREA OF HOME',bg='white',fg='black',bd=5,relief='ridge',\n",
    "        font=('times new roman',14,'bold'))\n",
    "\n",
    "l1.place(x=100,y=180)\n",
    "\n",
    "var1=StringVar()\n",
    "e1=Entry(win,textvariable=var1,bg='white',fg='black',bd=5,relief='ridge',width=35,\n",
    "        font=('times new roman',14,'bold'))\n",
    "\n",
    "e1.place(x=390,y=180)\n",
    "\n",
    "b1=Button(win,text='PREDICT PRICE',width=17,bd=5,relief='ridge',command=show,\n",
    "          font=('times new roman',12,'bold'))\n",
    "b1.place(x=390,y=240)\n",
    "\n",
    "# label\n",
    "\n",
    "l2=Label(win,text='PRICE IS HERE',bg='yellow',fg='black',bd=5,relief='ridge',height=4,width=28,\n",
    "        font=('times new roman',14,'bold'))\n",
    "\n",
    "l2.place(x=100,y=300)\n",
    "\n",
    "win.mainloop()"
   ]
  },
  {
   "cell_type": "code",
   "execution_count": null,
   "id": "a2391306",
   "metadata": {},
   "outputs": [],
   "source": []
  }
 ],
 "metadata": {
  "kernelspec": {
   "display_name": "Python 3 (ipykernel)",
   "language": "python",
   "name": "python3"
  },
  "language_info": {
   "codemirror_mode": {
    "name": "ipython",
    "version": 3
   },
   "file_extension": ".py",
   "mimetype": "text/x-python",
   "name": "python",
   "nbconvert_exporter": "python",
   "pygments_lexer": "ipython3",
   "version": "3.11.5"
  }
 },
 "nbformat": 4,
 "nbformat_minor": 5
}
